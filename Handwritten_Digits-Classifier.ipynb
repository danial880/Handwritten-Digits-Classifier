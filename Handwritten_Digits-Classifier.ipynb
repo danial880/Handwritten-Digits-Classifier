{
 "cells": [
  {
   "cell_type": "markdown",
   "metadata": {},
   "source": [
    "# Introduction\n",
    "\n",
    "In this project, you will build a neural network of your own design to evaluate the MNIST dataset.\n",
    "\n",
    "Some of the benchmark results on MNIST include can be found [on Yann LeCun's page](http://yann.lecun.com/exdb/mnist/) and include:\n",
    "\n",
    "88% [Lecun et al., 1998](http://yann.lecun.com/exdb/publis/pdf/lecun-98.pdf)\n",
    "95.3% [Lecun et al., 1998](http://yann.lecun.com/exdb/publis/pdf/lecun-98.pdf)\n",
    "99.65% [Ciresan et al., 2011](http://people.idsia.ch/~juergen/ijcai2011.pdf)\n",
    "\n",
    "MNIST is a great dataset for sanity checking your models, since the accuracy levels achieved by large convolutional neural networks and small linear models are both quite high. This makes it important to be familiar with the data.\n",
    "\n",
    "## Imports"
   ]
  },
  {
   "cell_type": "code",
   "execution_count": 1,
   "metadata": {},
   "outputs": [],
   "source": [
    "## This cell contains the essential imports you will need – DO NOT CHANGE THE CONTENTS! ##\n",
    "import torch\n",
    "import torch.nn as nn\n",
    "import torch.nn.functional as F\n",
    "import torch.optim as optim\n",
    "import torchvision\n",
    "import torchvision.datasets as datasets\n",
    "import torchvision.transforms as transforms\n",
    "import matplotlib.pyplot as plt\n",
    "import numpy as np\n",
    "from torch.utils.data import DataLoader, random_split"
   ]
  },
  {
   "cell_type": "markdown",
   "metadata": {},
   "source": [
    "## Important Parameters"
   ]
  },
  {
   "cell_type": "code",
   "execution_count": 2,
   "metadata": {},
   "outputs": [],
   "source": [
    "# training hyperparameters\n",
    "learning_rate = 0.001\n",
    "epochs = 10\n",
    "batch_size = 32\n",
    "\n",
    "# train and validation split\n",
    "train_split = 0.8\n",
    "val_split = 1 - train_split"
   ]
  },
  {
   "cell_type": "markdown",
   "metadata": {},
   "source": [
    "## Load the Dataset\n",
    "\n",
    "Specify your transforms as a list if you intend to .\n",
    "The transforms module is already loaded as `transforms`.\n",
    "\n",
    "MNIST is fortunately included in the torchvision module.\n",
    "Then, you can create your dataset using the `MNIST` object from `torchvision.datasets` ([the documentation is available here](https://pytorch.org/vision/stable/datasets.html#mnist)).\n",
    "Make sure to specify `download=True`! \n",
    "\n",
    "Once your dataset is created, you'll also need to define a `DataLoader` from the `torch.utils.data` module for both the train and the test set."
   ]
  },
  {
   "cell_type": "code",
   "execution_count": 3,
   "metadata": {},
   "outputs": [
    {
     "name": "stdout",
     "output_type": "stream",
     "text": [
      "Training Samples = 48000\n",
      "Validation Samples = 12000\n",
      "Testing Samples =  10000\n",
      "\n",
      "Train Steps = 1500\n",
      "Validation Steps = 375\n"
     ]
    },
    {
     "name": "stderr",
     "output_type": "stream",
     "text": [
      "/opt/conda/lib/python3.7/site-packages/torchvision/datasets/mnist.py:498: UserWarning: The given NumPy array is not writable, and PyTorch does not support non-writable tensors. This means writing to this tensor will result in undefined behavior. You may want to copy the array to protect its data or make it writable before converting it to a tensor. This type of warning will be suppressed for the rest of this program. (Triggered internally at  ../torch/csrc/utils/tensor_numpy.cpp:178.)\n",
      "  return torch.from_numpy(parsed.astype(m[2], copy=False)).view(*s)\n"
     ]
    }
   ],
   "source": [
    "#!pip install ipywidgets\n",
    "# Define transforms\n",
    "transform = transforms.Compose([transforms.ToTensor(),transforms.Normalize((0.1307), (0.3081))])\n",
    "\n",
    "#Create training and validation sets\n",
    "train_dataset = datasets.MNIST(root='data', train=True, download=True, transform=transform)\n",
    "train_samples = int(len(train_dataset) * train_split)\n",
    "val_samples = int(np.ceil((len(train_dataset) * val_split)))\n",
    "print(\"Training Samples = {}\\nValidation Samples = {}\".format(train_samples,val_samples))\n",
    "train_data, val_data = random_split(train_dataset, [train_samples, val_samples],\n",
    "                                   generator=torch.Generator().manual_seed(42))\n",
    "#Define train and val dataloaders\n",
    "train_loader = DataLoader(train_data, batch_size=batch_size, shuffle=True)\n",
    "val_loader = DataLoader(val_data, batch_size=batch_size)\n",
    "\n",
    "#Create test set and define test dataloader\n",
    "test_data = datasets.MNIST(root='data', train=False, download=True, transform=transform)\n",
    "test_loader = DataLoader(test_data, batch_size=batch_size)\n",
    "print(\"Testing Samples = \",len(test_data))\n",
    "\n",
    "#Calculate training and validation steps\n",
    "train_steps = train_samples // batch_size\n",
    "val_steps = val_samples // batch_size\n",
    "print(\"\\nTrain Steps = {}\\nValidation Steps = {}\".format(train_steps, val_steps))"
   ]
  },
  {
   "cell_type": "markdown",
   "metadata": {},
   "source": [
    "## Justify your preprocessing\n",
    "\n",
    "In your own words, why did you choose the transforms you chose? If you didn't use any preprocessing steps, why not?"
   ]
  },
  {
   "cell_type": "markdown",
   "metadata": {},
   "source": [
    " - **I am converting the dataset to torch tensors since pytorch works on it**\n",
    " - **The normalization is along one channel since MNIST has grayscale images**\n",
    " - **I have not flatten the input because I am using convolution layers**"
   ]
  },
  {
   "cell_type": "markdown",
   "metadata": {},
   "source": [
    "## Explore the Dataset\n",
    "Using matplotlib, numpy, and torch, explore the dimensions of your data.\n",
    "\n",
    "You can view images using the `show5` function defined below – it takes a data loader as an argument.\n",
    "Remember that normalized images will look really weird to you! You may want to try changing your transforms to view images.\n",
    "Typically using no transforms other than `toTensor()` works well for viewing – but not as well for training your network.\n",
    "If `show5` doesn't work, go back and check your code for creating your data loaders and your training/test sets."
   ]
  },
  {
   "cell_type": "code",
   "execution_count": 4,
   "metadata": {},
   "outputs": [],
   "source": [
    "## This cell contains a function for showing 5 images from a dataloader – DO NOT CHANGE THE CONTENTS! ##\n",
    "def show5(img_loader):\n",
    "    dataiter = iter(img_loader)\n",
    "    \n",
    "    batch = next(dataiter)\n",
    "    labels = batch[1][0:5]\n",
    "    images = batch[0][0:5]\n",
    "    for i in range(5):\n",
    "        print(int(labels[i].detach()))    \n",
    "        image = images[i].numpy()\n",
    "        plt.imshow(image.T.squeeze().T,cmap='gray')\n",
    "        plt.show()"
   ]
  },
  {
   "cell_type": "code",
   "execution_count": 5,
   "metadata": {},
   "outputs": [
    {
     "name": "stdout",
     "output_type": "stream",
     "text": [
      "2\n"
     ]
    },
    {
     "data": {
      "image/png": "[encoded data removed]",
      "text/plain": [
       "<Figure size 432x288 with 1 Axes>"
      ]
     },
     "metadata": {
      "needs_background": "light"
     },
     "output_type": "display_data"
    },
    {
     "name": "stdout",
     "output_type": "stream",
     "text": [
      "8\n"
     ]
    },
    {
     "data": {
      "image/png": "[encoded data removed]",
      "text/plain": [
       "<Figure size 432x288 with 1 Axes>"
      ]
     },
     "metadata": {
      "needs_background": "light"
     },
     "output_type": "display_data"
    },
    {
     "name": "stdout",
     "output_type": "stream",
     "text": [
      "7\n"
     ]
    },
    {
     "data": {
      "image/png": "[encoded data removed]",
      "text/plain": [
       "<Figure size 432x288 with 1 Axes>"
      ]
     },
     "metadata": {
      "needs_background": "light"
     },
     "output_type": "display_data"
    },
    {
     "name": "stdout",
     "output_type": "stream",
     "text": [
      "9\n"
     ]
    },
    {
     "data": {
      "image/png": "[encoded data removed]",
      "text/plain": [
       "<Figure size 432x288 with 1 Axes>"
      ]
     },
     "metadata": {
      "needs_background": "light"
     },
     "output_type": "display_data"
    },
    {
     "name": "stdout",
     "output_type": "stream",
     "text": [
      "2\n"
     ]
    },
    {
     "data": {
      "image/png": "[encoded data removed]",
      "text/plain": [
       "<Figure size 432x288 with 1 Axes>"
      ]
     },
     "metadata": {
      "needs_background": "light"
     },
     "output_type": "display_data"
    }
   ],
   "source": [
    "# Explore data\n",
    "show5(val_loader)"
   ]
  },
  {
   "cell_type": "markdown",
   "metadata": {},
   "source": [
    "## Build your Neural Network\n",
    "Using the layers in `torch.nn` (which has been imported as `nn`) and the `torch.nn.functional` module (imported as `F`), construct a neural network based on the parameters of the dataset.\n",
    "Use any architecture you like. \n",
    "\n",
    "*Note*: If you did not flatten your tensors in your transforms or as part of your preprocessing and you are using only `Linear` layers, make sure to use the `Flatten` layer in your network!"
   ]
  },
  {
   "cell_type": "code",
   "execution_count": 6,
   "metadata": {},
   "outputs": [],
   "source": [
    "class Net(nn.Module):\n",
    "    def __init__(self):\n",
    "        super(Net, self).__init__()\n",
    "        self.conv1 = nn.Conv2d(1, 32, kernel_size=[3, 3], stride=[1, 1])\n",
    "        self.conv2 = nn.Conv2d(32, 64, kernel_size=[3, 3], stride=[2, 2])\n",
    "        self.relu = nn.ReLU()\n",
    "        self.pool = nn.MaxPool2d(kernel_size=(2, 2), stride=(2, 2))\n",
    "        self.fc1 = nn.Linear(576, 288)\n",
    "        self.fc2 = nn.Linear(288, 10)\n",
    "        self.logsoftmax = nn.LogSoftmax(dim=1)\n",
    "\n",
    "    def forward(self, x):\n",
    "        x = self.conv1(x)\n",
    "        x = self.relu(x)\n",
    "        x = self.pool(x)\n",
    "        \n",
    "        x = self.conv2(x)\n",
    "        x = self.relu(x)\n",
    "        x = self.pool(x)\n",
    "\n",
    "        x = torch.flatten(x, 1)\n",
    "        x = self.fc1(x)\n",
    "        x = self.relu(x)\n",
    " \n",
    "        x = self.fc2(x)\n",
    "        x = self.logsoftmax(x)\n",
    "        return x\n"
   ]
  },
  {
   "cell_type": "markdown",
   "metadata": {},
   "source": [
    "Specify a loss function and an optimizer, and instantiate the model.\n",
    "\n",
    "If you use a less common loss function, please note why you chose that loss function in a comment."
   ]
  },
  {
   "cell_type": "code",
   "execution_count": 7,
   "metadata": {},
   "outputs": [],
   "source": [
    "device = torch.device(\"cuda\" if torch.cuda.is_available() else \"cpu\")\n",
    "model = Net().to(device)\n",
    "criterion = nn.NLLLoss()\n",
    "optimizer = optim.SGD(model.parameters(), lr = learning_rate)"
   ]
  },
  {
   "cell_type": "markdown",
   "metadata": {},
   "source": [
    "## Running your Neural Network\n",
    "Use whatever method you like to train your neural network, and ensure you record the average loss at each epoch. \n",
    "Don't forget to use `torch.device()` and the `.to()` method for both your model and your data if you are using GPU!\n",
    "\n",
    "If you want to print your loss **during** each epoch, you can use the `enumerate` function and print the loss after a set number of batches. 250 batches works well for most people!"
   ]
  },
  {
   "cell_type": "code",
   "execution_count": 8,
   "metadata": {},
   "outputs": [
    {
     "name": "stdout",
     "output_type": "stream",
     "text": [
      "Using  cuda\n",
      "Epoch 1/10\n",
      "Training Acc = 38.9854\tValidation Acc = 60.9333\n",
      "Training Loss = 2.1659\tValidation Loss = 1.8669\n",
      "\n",
      "Epoch 2/10\n",
      "Training Acc = 73.8521\tValidation Acc = 81.2500\n",
      "Training Loss = 1.1693\tValidation Loss = 0.7181\n",
      "\n",
      "Epoch 3/10\n",
      "Training Acc = 84.9979\tValidation Acc = 86.8917\n",
      "Training Loss = 0.5510\tValidation Loss = 0.4707\n",
      "\n",
      "Epoch 4/10\n",
      "Training Acc = 88.6896\tValidation Acc = 89.3583\n",
      "Training Loss = 0.3973\tValidation Loss = 0.3716\n",
      "\n",
      "Epoch 5/10\n",
      "Training Acc = 90.8312\tValidation Acc = 91.2583\n",
      "Training Loss = 0.3206\tValidation Loss = 0.3102\n",
      "\n",
      "Epoch 6/10\n",
      "Training Acc = 92.2396\tValidation Acc = 92.1917\n",
      "Training Loss = 0.2711\tValidation Loss = 0.2709\n",
      "\n",
      "Epoch 7/10\n",
      "Training Acc = 93.2375\tValidation Acc = 93.2000\n",
      "Training Loss = 0.2351\tValidation Loss = 0.2401\n",
      "\n",
      "Epoch 8/10\n",
      "Training Acc = 93.9021\tValidation Acc = 93.7500\n",
      "Training Loss = 0.2094\tValidation Loss = 0.2160\n",
      "\n",
      "Epoch 9/10\n",
      "Training Acc = 94.5833\tValidation Acc = 93.9000\n",
      "Training Loss = 0.1888\tValidation Loss = 0.2021\n",
      "\n",
      "Epoch 10/10\n",
      "Training Acc = 94.9604\tValidation Acc = 94.6833\n",
      "Training Loss = 0.1724\tValidation Loss = 0.1811\n",
      "\n"
     ]
    }
   ],
   "source": [
    "train_loss_history = list()\n",
    "train_acc_history = list()\n",
    "val_loss_history = list()\n",
    "val_acc_history = list()\n",
    "\n",
    "print(\"Using \",device)\n",
    "\n",
    "for epoch in range(epochs):\n",
    "    model.train()    \n",
    "    #correct number of predictions\n",
    "    val_correct = 0\n",
    "    train_correct = 0  \n",
    "    # total training and validation loss\n",
    "    total_train_loss = 0.0\n",
    "    total_val_loss = 0.0\n",
    "    \n",
    "    for data in train_loader:\n",
    "        # data is a list of [inputs, labels]\n",
    "        inputs, labels = data\n",
    "        # Pass to device\n",
    "        inputs, labels = inputs.to(device), labels.to(device)\n",
    "        # Forward pass and loss\n",
    "        outputs = model(inputs)\n",
    "        loss = criterion(outputs, labels)\n",
    "        # Backpropagation\n",
    "        optimizer.zero_grad()\n",
    "        loss.backward()\n",
    "        optimizer.step()\n",
    "        # Calculate training loss and correct predictions\n",
    "        total_train_loss += loss\n",
    "        train_correct += (outputs.argmax(1)==labels).type(torch.float).sum().item()\n",
    "    \n",
    "    # Evaluation\n",
    "    with torch.no_grad():\n",
    "        model.eval()\n",
    "        for data in val_loader:\n",
    "            inputs, labels = data\n",
    "            inputs, labels = inputs.to(device), labels.to(device)\n",
    "            outputs = model(inputs)\n",
    "            loss = criterion(outputs, labels)\n",
    "            total_val_loss += loss\n",
    "            val_correct += (outputs.argmax(1)==labels).type(torch.float).sum().item()\n",
    "    \n",
    "    # Calculate average loss\n",
    "    avg_training_loss = total_train_loss / train_steps\n",
    "    avg_val_loss = total_val_loss / val_steps\n",
    "    \n",
    "    # Calculate average accuracy\n",
    "    avg_training_acc = train_correct / train_samples\n",
    "    avg_val_acc = val_correct / val_samples\n",
    "    \n",
    "    # Update History\n",
    "    train_loss_history.append(avg_training_loss.cpu().detach().numpy())\n",
    "    train_acc_history.append(avg_training_acc)\n",
    "    val_loss_history.append(avg_val_loss.cpu().detach().numpy())\n",
    "    val_acc_history.append(avg_val_acc)\n",
    "    \n",
    "    print(\"Epoch {}/{}\".format(epoch+1, epochs))\n",
    "    print(\"Training Acc = {:.4f}\\tValidation Acc = {:.4f}\".format(avg_training_acc*100, avg_val_acc*100))\n",
    "    print(\"Training Loss = {:.4f}\\tValidation Loss = {:.4f}\\n\".format(avg_training_loss, avg_val_loss))\n",
    "    \n"
   ]
  },
  {
   "cell_type": "markdown",
   "metadata": {},
   "source": [
    "Plot the training loss (and validation loss/accuracy, if recorded)."
   ]
  },
  {
   "cell_type": "code",
   "execution_count": 9,
   "metadata": {},
   "outputs": [
    {
     "data": {
      "image/png": "[encoded data removed]",
      "text/plain": [
       "<Figure size 432x288 with 1 Axes>"
      ]
     },
     "metadata": {
      "needs_background": "light"
     },
     "output_type": "display_data"
    }
   ],
   "source": [
    "plt.plot(train_loss_history, label=\"Training Loss\")\n",
    "plt.plot(val_loss_history, label=\"Validation Loss\")\n",
    "plt.plot(train_acc_history, label=\"Training Accuracy\")\n",
    "plt.plot(val_acc_history, label=\"Validation Accuracy\")\n",
    "plt.legend()\n",
    "plt.show()"
   ]
  },
  {
   "cell_type": "markdown",
   "metadata": {},
   "source": [
    "## Testing your model\n",
    "Using the previously created `DataLoader` for the test set, compute the percentage of correct predictions using the highest probability prediction. \n",
    "\n",
    "If your accuracy is over 90%, great work, but see if you can push a bit further! \n",
    "If your accuracy is under 90%, you'll need to make improvements.\n",
    "Go back and check your model architecture, loss function, and optimizer to make sure they're appropriate for an image classification task."
   ]
  },
  {
   "cell_type": "code",
   "execution_count": 10,
   "metadata": {},
   "outputs": [
    {
     "name": "stdout",
     "output_type": "stream",
     "text": [
      "Test Accuracy = 95.5000\n"
     ]
    }
   ],
   "source": [
    "with torch.no_grad():\n",
    "    model.eval()\n",
    "    test_correct = 0\n",
    "    for data in test_loader:\n",
    "        inputs, labels = data\n",
    "        inputs, labels = inputs.to(device), labels.to(device)\n",
    "        outputs = model(inputs)\n",
    "        test_correct += (outputs.argmax(1)==labels).type(torch.float).sum().item()\n",
    "    avg_test_acc = test_correct / len(test_data)\n",
    "    print(\"Test Accuracy = {:.4f}\".format(avg_test_acc * 100))"
   ]
  },
  {
   "cell_type": "markdown",
   "metadata": {},
   "source": [
    "## Improving your model\n",
    "\n",
    "Once your model is done training, try tweaking your hyperparameters and training again below to improve your accuracy on the test set!"
   ]
  },
  {
   "cell_type": "code",
   "execution_count": 13,
   "metadata": {},
   "outputs": [
    {
     "name": "stdout",
     "output_type": "stream",
     "text": [
      "Using  cuda\n",
      "Epoch 1/10\n",
      "Training Acc = 94.4562\tValidation Acc = 97.7500\n",
      "Training Loss = 0.1721\tValidation Loss = 0.0674\n",
      "\n",
      "Epoch 2/10\n",
      "Training Acc = 98.1146\tValidation Acc = 98.1250\n",
      "Training Loss = 0.0592\tValidation Loss = 0.0630\n",
      "\n",
      "Epoch 3/10\n",
      "Training Acc = 98.6792\tValidation Acc = 97.9833\n",
      "Training Loss = 0.0412\tValidation Loss = 0.0676\n",
      "\n",
      "Epoch 4/10\n",
      "Training Acc = 98.9604\tValidation Acc = 98.4250\n",
      "Training Loss = 0.0312\tValidation Loss = 0.0533\n",
      "\n",
      "Epoch 5/10\n",
      "Training Acc = 99.2729\tValidation Acc = 98.4917\n",
      "Training Loss = 0.0223\tValidation Loss = 0.0535\n",
      "\n",
      "Epoch 6/10\n",
      "Training Acc = 99.3396\tValidation Acc = 98.5833\n",
      "Training Loss = 0.0200\tValidation Loss = 0.0515\n",
      "\n",
      "Epoch 7/10\n",
      "Training Acc = 99.4667\tValidation Acc = 98.5500\n",
      "Training Loss = 0.0161\tValidation Loss = 0.0604\n",
      "\n",
      "Epoch 8/10\n",
      "Training Acc = 99.5792\tValidation Acc = 98.7000\n",
      "Training Loss = 0.0131\tValidation Loss = 0.0569\n",
      "\n",
      "Epoch 9/10\n",
      "Training Acc = 99.5833\tValidation Acc = 98.6167\n",
      "Training Loss = 0.0134\tValidation Loss = 0.0569\n",
      "\n",
      "Epoch 10/10\n",
      "Training Acc = 99.6188\tValidation Acc = 98.4667\n",
      "Training Loss = 0.0126\tValidation Loss = 0.0702\n",
      "\n"
     ]
    },
    {
     "data": {
      "image/png": "[encoded data removed]",
      "text/plain": [
       "<Figure size 432x288 with 1 Axes>"
      ]
     },
     "metadata": {
      "needs_background": "light"
     },
     "output_type": "display_data"
    },
    {
     "name": "stdout",
     "output_type": "stream",
     "text": [
      "Test Accuracy = 98.6200\n"
     ]
    }
   ],
   "source": [
    "#changing optimizer from SGD to Adam\n",
    "model1 = Net().to(device)\n",
    "criterion1 = nn.NLLLoss()\n",
    "optimizer1 = optim.Adam(model1.parameters(), lr = learning_rate)\n",
    "\n",
    "train_loss_history = list()\n",
    "train_acc_history = list()\n",
    "val_loss_history = list()\n",
    "val_acc_history = list()\n",
    "\n",
    "print(\"Using \",device)\n",
    "\n",
    "for epoch in range(epochs):\n",
    "    model1.train()    \n",
    "    #correct number of predictions\n",
    "    val_correct = 0\n",
    "    train_correct = 0  \n",
    "    # total training and validation loss\n",
    "    total_train_loss = 0.0\n",
    "    total_val_loss = 0.0\n",
    "    \n",
    "    for data in train_loader:\n",
    "        # data is a list of [inputs, labels]\n",
    "        inputs, labels = data\n",
    "        # Pass to device\n",
    "        inputs, labels = inputs.to(device), labels.to(device)\n",
    "        # Forward pass and loss\n",
    "        outputs = model1(inputs)\n",
    "        loss = criterion1(outputs, labels)\n",
    "        # Backpropagation\n",
    "        optimizer1.zero_grad()\n",
    "        loss.backward()\n",
    "        optimizer1.step()\n",
    "        # Calculate training loss and correct predictions\n",
    "        total_train_loss += loss\n",
    "        train_correct += (outputs.argmax(1)==labels).type(torch.float).sum().item()\n",
    "    \n",
    "    # Evaluation\n",
    "    with torch.no_grad():\n",
    "        model1.eval()\n",
    "        for data in val_loader:\n",
    "            inputs, labels = data\n",
    "            inputs, labels = inputs.to(device), labels.to(device)\n",
    "            outputs = model1(inputs)\n",
    "            loss = criterion1(outputs, labels)\n",
    "            total_val_loss += loss\n",
    "            val_correct += (outputs.argmax(1)==labels).type(torch.float).sum().item()\n",
    "    \n",
    "    # Calculate average loss\n",
    "    avg_training_loss = total_train_loss / train_steps\n",
    "    avg_val_loss = total_val_loss / val_steps\n",
    "    \n",
    "    # Calculate average accuracy\n",
    "    avg_training_acc = train_correct / train_samples\n",
    "    avg_val_acc = val_correct / val_samples\n",
    "    \n",
    "    # Update History\n",
    "    train_loss_history.append(avg_training_loss.cpu().detach().numpy())\n",
    "    train_acc_history.append(avg_training_acc)\n",
    "    val_loss_history.append(avg_val_loss.cpu().detach().numpy())\n",
    "    val_acc_history.append(avg_val_acc)\n",
    "    \n",
    "    print(\"Epoch {}/{}\".format(epoch+1, epochs))\n",
    "    print(\"Training Acc = {:.4f}\\tValidation Acc = {:.4f}\".format(avg_training_acc*100, avg_val_acc*100))\n",
    "    print(\"Training Loss = {:.4f}\\tValidation Loss = {:.4f}\\n\".format(avg_training_loss, avg_val_loss))\n",
    "\n",
    "plt.plot(train_loss_history, label=\"Training Loss\")\n",
    "plt.plot(val_loss_history, label=\"Validation Loss\")\n",
    "plt.plot(train_acc_history, label=\"Training Accuracy\")\n",
    "plt.plot(val_acc_history, label=\"Validation Accuracy\")\n",
    "plt.legend()\n",
    "plt.show()\n",
    "\n",
    "with torch.no_grad():\n",
    "    model1.eval()\n",
    "    test_correct = 0\n",
    "    for data in test_loader:\n",
    "        inputs, labels = data\n",
    "        inputs, labels = inputs.to(device), labels.to(device)\n",
    "        outputs = model1(inputs)\n",
    "        test_correct += (outputs.argmax(1)==labels).type(torch.float).sum().item()\n",
    "    avg_test_acc = test_correct / len(test_data)\n",
    "    print(\"Test Accuracy = {:.4f}\".format(avg_test_acc * 100))"
   ]
  },
  {
   "cell_type": "markdown",
   "metadata": {},
   "source": [
    "## Saving your model\n",
    "Using `torch.save`, save your model for future loading."
   ]
  },
  {
   "cell_type": "code",
   "execution_count": 14,
   "metadata": {},
   "outputs": [],
   "source": [
    "torch.save(model, \"model.pth\")"
   ]
  },
  {
   "cell_type": "code",
   "execution_count": 15,
   "metadata": {},
   "outputs": [],
   "source": [
    "torch.save(model1, \"model1.pth\")"
   ]
  }
 ],
 "metadata": {
  "kernelspec": {
   "display_name": "Python 3 (ipykernel)",
   "language": "python",
   "name": "python3"
  },
  "language_info": {
   "codemirror_mode": {
    "name": "ipython",
    "version": 3
   },
   "file_extension": ".py",
   "mimetype": "text/x-python",
   "name": "python",
   "nbconvert_exporter": "python",
   "pygments_lexer": "ipython3",
   "version": "3.9.13"
  }
 },
 "nbformat": 4,
 "nbformat_minor": 4
}
